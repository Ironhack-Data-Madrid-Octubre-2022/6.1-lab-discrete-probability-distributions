{
 "cells": [
  {
   "cell_type": "markdown",
   "metadata": {},
   "source": [
    "# Before your start:\n",
    "\n",
    "    Read the README.md file\n",
    "    Comment as much as you can and use the resources (README.md file)\n",
    "    Happy learning!\n",
    "\n",
    "*Notes:* \n",
    "\n",
    "- Solve the questions with python.\n",
    "\n",
    "- Round the final answer to three decimal places."
   ]
  },
  {
   "cell_type": "markdown",
   "metadata": {},
   "source": [
    "## Bernoulli's Distribution\n",
    "\n",
    "In a basket containing 100 fruits, there are 60 apples and 40 oranges. \n",
    "\n",
    "A fruit is picked randomly from the basket. \n",
    "\n",
    "1. **What is the probability that the fruit is apple?**\n",
    "1. **What is the probability that it is an orange?**"
   ]
  },
  {
   "cell_type": "code",
   "execution_count": 15,
   "metadata": {},
   "outputs": [
    {
     "name": "stdout",
     "output_type": "stream",
     "text": [
      "Apple, p:  0.61\n",
      "Orange, q:  0.39\n"
     ]
    }
   ],
   "source": [
    "\"\"\"\n",
    "Calculate:\n",
    "p = probability that the fruit is an apple \n",
    "q = probability that the fruit is an orange\n",
    "\"\"\"\n",
    "\n",
    "from scipy.stats import bernoulli\n",
    "\n",
    "p=0.6\n",
    "q=0.4\n",
    "\n",
    "jcob_b=bernoulli(p)\n",
    "\n",
    "apple= sum(jcob_b.rvs(size=100))/100\n",
    "\n",
    "orange = 1 - apple\n",
    "\n",
    "print(\"Apple, p: \", round(apple, 3))\n",
    "print(\"Orange, q: \", round(orange, 3))"
   ]
  },
  {
   "cell_type": "markdown",
   "metadata": {},
   "source": [
    "Now we take a random sample of 20 fruits from the basket. After each fruit is taken, a new fruit of the same type is replaced in the basket. Therefore, every time we are taking 1 fruit from 100 fruits. \n",
    "\n",
    "1. **What is the probability that the first 5 fruits are all apples?**\n",
    "\n",
    "1. **What is the probability that the first 5 fruits are all apples and the next 15 fruits are all oranges?**\n",
    "\n",
    "You can include the `p` and `q` probabilities you previous calculated in your solution."
   ]
  },
  {
   "cell_type": "code",
   "execution_count": 27,
   "metadata": {},
   "outputs": [
    {
     "name": "stdout",
     "output_type": "stream",
     "text": [
      "Probability 5 apples in a row:  0.084\n",
      "Probability 5 apples and 15 oranges in a row:  6.203235662716563e-08\n"
     ]
    }
   ],
   "source": [
    "#Probabilidad de que en la muestra de 20 frutas, la escogida sea manzana: 0.61. es decir, 61 de cada 100, ó 12 de cada 20.\n",
    "#Probabilidad de que en la muestra de 20 frutas, la escogida sea naranja: 0.39, es decir, 39 de cada 100, u 8 de cada 20.\n",
    "\n",
    "fivea= round(0.61**5, 3)\n",
    "\n",
    "print(\"Probability 5 apples in a row: \", fivea)\n",
    "\n",
    "fruits= (0.61**5)*(0.39**15)\n",
    "\n",
    "print(\"Probability 5 apples and 15 oranges in a row: \", fruits)\n"
   ]
  },
  {
   "cell_type": "markdown",
   "metadata": {},
   "source": [
    "## Binomial Distribution\n",
    "\n",
    "Similar to the above problem, this time again we randomly sample 20 fruits.\n",
    "\n",
    "**What is the probability that this time the sample contains 5 apples and 15 oranges?**\n",
    "\n",
    "Please note that this time the order of the fruits being picked does not matter."
   ]
  },
  {
   "cell_type": "code",
   "execution_count": 32,
   "metadata": {},
   "outputs": [
    {
     "name": "stdout",
     "output_type": "stream",
     "text": [
      "Probability 5 apples and 15 oranges, 1/2 assumed:  0.00021861889399588097 , rounded is 0.0\n"
     ]
    }
   ],
   "source": [
    "import pylab as plt\n",
    "from scipy.stats import binom\n",
    "\n",
    "bino= binom.pmf(5, 20, 0.5) * binom.pmf(15, 20, 0.5)\n",
    "\n",
    "print (\"Probability 5 apples and 15 oranges, 1/2 assumed: \",bino, \", rounded is\", round(bino,3))"
   ]
  },
  {
   "cell_type": "markdown",
   "metadata": {},
   "source": [
    "In the lesson we also discussed CDF (cumulative distribution function). In the context of the above problem, **what is the probability that less than 5 fruits picked are apples?**\n",
    "\n",
    "Write the formula and calculate the probability below."
   ]
  },
  {
   "cell_type": "code",
   "execution_count": 41,
   "metadata": {},
   "outputs": [
    {
     "name": "stdout",
     "output_type": "stream",
     "text": [
      "Probability less than 5 fruits are apples, 1/2 assumed:  0.020694732666015625 , rounded is 0.021\n"
     ]
    }
   ],
   "source": [
    "cdf= binom.cdf(5, 20, 0.5)\n",
    "\n",
    "print (\"Probability less than 5 fruits are apples, 1/2 assumed: \",cdf, \", rounded is\", round(cdf,3))"
   ]
  },
  {
   "cell_type": "markdown",
   "metadata": {},
   "source": [
    "**Plot the PDF (probability distributiom function) for the above binomial distribution.**\n",
    "\n",
    "*Hint: The range of x in a binomial distribution is from `0` to `n`.*"
   ]
  },
  {
   "cell_type": "code",
   "execution_count": 49,
   "metadata": {},
   "outputs": [
    {
     "data": {
      "text/plain": [
       "''"
      ]
     },
     "execution_count": 49,
     "metadata": {},
     "output_type": "execute_result"
    },
    {
     "data": {
      "image/png": "[encoded data removed]",
      "text/plain": [
       "<Figure size 432x288 with 1 Axes>"
      ]
     },
     "metadata": {
      "needs_background": "light"
     },
     "output_type": "display_data"
    }
   ],
   "source": [
    "# your code here\n",
    "# Please label the axes and give a title to the plot \n",
    "\n",
    "x=[i for i in range(20)]                 \n",
    "\n",
    "y=[binom.pmf(x, 20, 0.5) for x in x]  \n",
    "\n",
    "plt.plot(x, y)\n",
    "plt.xlabel(\"Range\")\n",
    "plt.ylabel(\"Probability\")\n",
    "plt.title(\"Binomial distribution\")\n",
    ";"
   ]
  },
  {
   "cell_type": "markdown",
   "metadata": {},
   "source": [
    "## Poisson Distribution\n",
    "\n",
    "In this challenge you are required to use the Math library in python to solve the problems.\n",
    "\n",
    "In the UEFA champions league tournament, the average number of goals scored in a match is 2.3. \n",
    "\n",
    "**What is the probability that the number of goals scored in a match is 5?**\n",
    "\n",
    "*Hint: Use the exp() in the math library*\n",
    "\n",
    "And to calculate the factorial, you can use the following code:\n",
    "\n",
    "```python\n",
    "import math\n",
    "math.factorial(n) # n is the number you want to find the factorial of\n",
    "```"
   ]
  },
  {
   "cell_type": "markdown",
   "metadata": {},
   "source": [
    "$$P(X=k)=\\frac{\\lambda ^{k}e^{-\\lambda }}{k!}$$"
   ]
  },
  {
   "cell_type": "code",
   "execution_count": 67,
   "metadata": {},
   "outputs": [
    {
     "name": "stdout",
     "output_type": "stream",
     "text": [
      "Poisson:  0.053775025581946814 ,rounded:  0.054\n",
      "Formula:  0.0537750255819468 ,rounded:  0.054\n"
     ]
    }
   ],
   "source": [
    "# your code here \n",
    "\n",
    "from scipy.stats import poisson\n",
    "import math\n",
    "\n",
    "#poisson.pmf(k, lambda), poisson.pmf(evento, media)\n",
    "\n",
    "a=poisson.pmf(5, 2.3)\n",
    "\n",
    "b=((2.3**5)*math.exp(-2.3))/math.factorial(5)\n",
    "\n",
    "\n",
    "print(\"Poisson: \", a, \",rounded: \", round(a, 3))\n",
    "\n",
    "print(\"Formula: \", b, \",rounded: \", round(b, 3))"
   ]
  },
  {
   "cell_type": "markdown",
   "metadata": {},
   "source": [
    "**Draw a poisson probability distribution plot for the number of goals to be between 0 to 10.**"
   ]
  },
  {
   "cell_type": "code",
   "execution_count": 68,
   "metadata": {},
   "outputs": [
    {
     "data": {
      "text/plain": [
       "''"
      ]
     },
     "execution_count": 68,
     "metadata": {},
     "output_type": "execute_result"
    },
    {
     "data": {
      "image/png": "[encoded data removed]",
      "text/plain": [
       "<Figure size 432x288 with 1 Axes>"
      ]
     },
     "metadata": {
      "needs_background": "light"
     },
     "output_type": "display_data"
    }
   ],
   "source": [
    "# your code here\n",
    "# Please label the axes and give a title to the plot \n",
    "\n",
    "x=[i for i in range(10)]  \n",
    "y=[poisson.pmf(x, 2.3) for x in x] \n",
    "\n",
    "plt.plot(x, y)\n",
    "plt.xlabel(\"Range\")\n",
    "plt.ylabel(\"Probability\")\n",
    "plt.title(\"Poisson distribution\")\n",
    ";"
   ]
  }
 ],
 "metadata": {
  "kernelspec": {
   "display_name": "Python 3 (ipykernel)",
   "language": "python",
   "name": "python3"
  },
  "language_info": {
   "codemirror_mode": {
    "name": "ipython",
    "version": 3
   },
   "file_extension": ".py",
   "mimetype": "text/x-python",
   "name": "python",
   "nbconvert_exporter": "python",
   "pygments_lexer": "ipython3",
   "version": "3.9.12"
  }
 },
 "nbformat": 4,
 "nbformat_minor": 2
}
